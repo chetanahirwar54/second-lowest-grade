{
 "cells": [
  {
   "cell_type": "markdown",
   "metadata": {},
   "source": [
    "Given the names and grades for each student in a Physics class of N students, store them in a nested list and print the name(s) of any student(s) having the second lowest grade.\n",
    "\n",
    "<i>Note</i>: If there are multiple students with the same grade, order their names alphabetically and print each name on a new line.\n",
    "\n",
    "<b>Input Format</b>\n",
    "\n",
    "The first line contains an integer, N , the number of students.\n",
    "The 2N subsequent lines describe each student over 2 lines; the first line contains a student's name, and the second line contains their grade.\n",
    "\n",
    "<b>Constraints </b>\n",
    "- 2<=N <= 5\n",
    "- There will always be one or more students having the second lowest grade.\n",
    "\n",
    "<b>Output Format</b>\n",
    "\n",
    "Print the name(s) of any student(s) having the second lowest grade in Physics; if there are multiple students, order their names alphabetically and print each one on a new line.\n",
    "\n",
    "<b>Sample Input 0</b>\n",
    "\n",
    "5\n",
    "Harry\n",
    "37.21\n",
    "Berry\n",
    "37.21\n",
    "Tina\n",
    "37.2\n",
    "Akriti\n",
    "41\n",
    "Harsh\n",
    "39\n",
    "\n",
    "<b>Sample Output 0</b>\n",
    "\n",
    "Berry\n",
    "Harry\n",
    "\n",
    "<b>Explanation 0</b>\n",
    "\n",
    "There are 5 students in this class whose names and grades are assembled to build the following list:\n",
    "\n",
    "python students = [['Harry', 37.21], ['Berry', 37.21], ['Tina', 37.2], ['Akriti', 41], ['Harsh', 39]]\n",
    "\n",
    "The lowest grade of 37.2 belongs to Tina. The second lowest grade of 37.21 belongs to both Harry and Berry, so we order their names alphabetically and print each name on a new line."
   ]
  },
  {
   "cell_type": "code",
   "execution_count": 1,
   "metadata": {},
   "outputs": [],
   "source": [
    "students = [['Harry', 37.21], ['Berry', 37.21], ['Tina', 37.2], ['Akriti', 41], ['Harsh', 39]]"
   ]
  },
  {
   "cell_type": "code",
   "execution_count": 2,
   "metadata": {},
   "outputs": [],
   "source": [
    "'''first make list for grades'''\n",
    "grade_list = []\n",
    "for std in students:\n",
    "    grade_list.append(std[1])\n",
    "'''take minimum value from that'''\n",
    "minimum = min(grade_list)\n",
    "\n",
    "'''after that remove it from grades list'''\n",
    "while(minimum == min(grade_list)):\n",
    "    grade_list.remove(min(grade_list))\n"
   ]
  },
  {
   "cell_type": "code",
   "execution_count": 3,
   "metadata": {},
   "outputs": [
    {
     "name": "stdout",
     "output_type": "stream",
     "text": [
      "Berry\n",
      "Harry\n"
     ]
    }
   ],
   "source": [
    "'''now take again minimum value, which is second minimum for initial list'''\n",
    "second_minimum = min(grade_list)\n",
    "second_minimum\n",
    "\n",
    "'''might be, we have multiple (duplicate) values, so append all in \n",
    "the seperate list from student list(which has a name and grades of students).'''\n",
    "second_minimum_list = []\n",
    "for std in students:\n",
    "    if(std[1] == second_minimum):\n",
    "        second_minimum_list.append(std)\n",
    "\n",
    "'''now, sort it and print only name.'''\n",
    "second_minimum_list.sort()\n",
    "for i in second_minimum_list:\n",
    "    print(i[0])"
   ]
  },
  {
   "cell_type": "code",
   "execution_count": null,
   "metadata": {},
   "outputs": [],
   "source": []
  }
 ],
 "metadata": {
  "kernelspec": {
   "display_name": "Python 3",
   "language": "python",
   "name": "python3"
  },
  "language_info": {
   "codemirror_mode": {
    "name": "ipython",
    "version": 3
   },
   "file_extension": ".py",
   "mimetype": "text/x-python",
   "name": "python",
   "nbconvert_exporter": "python",
   "pygments_lexer": "ipython3",
   "version": "3.7.3"
  }
 },
 "nbformat": 4,
 "nbformat_minor": 2
}
